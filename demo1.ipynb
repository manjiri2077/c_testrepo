{
    "cells": [
        {
            "metadata": {},
            "cell_type": "markdown",
            "source": "## Demo notebook"
        },
        {
            "metadata": {},
            "cell_type": "code",
            "source": "\nimport types\nimport pandas as pd\nfrom botocore.client import Config\nimport ibm_boto3\n\ndef __iter__(self): return 0\n\n# @hidden_cell\n# The following code accesses a file in your IBM Cloud Object Storage. It includes your credentials.\n# You might want to remove those credentials before you share the notebook.\nclient_0a33b6da167d4b269ef003d283a24cfb = ibm_boto3.client(service_name='s3',\n    ibm_api_key_id='a5xS_CWu9y32vfs4UizVmY-6zJ4Mi-ncpQqIfNJqV6vV',\n    ibm_auth_endpoint=\"https://iam.cloud.ibm.com/oidc/token\",\n    config=Config(signature_version='oauth'),\n    endpoint_url='https://s3.eu-geo.objectstorage.service.networklayer.com')\n\nbody = client_0a33b6da167d4b269ef003d283a24cfb.get_object(Bucket='toolsfords-donotdelete-pr-v0dxnfbtyshqae',Key='nyc_yellow_taxi_data.csv')['Body']\n# add missing __iter__ method, so pandas accepts body as file-like object\nif not hasattr(body, \"__iter__\"): body.__iter__ = types.MethodType( __iter__, body )\n\ndf_data_1 = pd.read_csv(body)\ndf_data_1.head()\n",
            "execution_count": 1,
            "outputs": [
                {
                    "output_type": "execute_result",
                    "execution_count": 1,
                    "data": {
                        "text/plain": "   VendorID tpep_pickup_datetime tpep_dropoff_datetime  passenger_count  \\\n0       1.0  2020-01-01 00:28:15   2020-01-01 00:33:03              1.0   \n1       1.0  2020-01-01 00:35:39   2020-01-01 00:43:04              1.0   \n2       1.0  2020-01-01 00:47:41   2020-01-01 00:53:52              1.0   \n3       1.0  2020-01-01 00:55:23   2020-01-01 01:00:14              1.0   \n4       2.0  2020-01-01 00:01:58   2020-01-01 00:04:16              1.0   \n\n   PULocationID  DOLocationID  fare_amount  \n0           238           239          6.0  \n1           239           238          7.0  \n2           238           238          6.0  \n3           238           151          5.5  \n4           193           193          3.5  ",
                        "text/html": "<div>\n<style scoped>\n    .dataframe tbody tr th:only-of-type {\n        vertical-align: middle;\n    }\n\n    .dataframe tbody tr th {\n        vertical-align: top;\n    }\n\n    .dataframe thead th {\n        text-align: right;\n    }\n</style>\n<table border=\"1\" class=\"dataframe\">\n  <thead>\n    <tr style=\"text-align: right;\">\n      <th></th>\n      <th>VendorID</th>\n      <th>tpep_pickup_datetime</th>\n      <th>tpep_dropoff_datetime</th>\n      <th>passenger_count</th>\n      <th>PULocationID</th>\n      <th>DOLocationID</th>\n      <th>fare_amount</th>\n    </tr>\n  </thead>\n  <tbody>\n    <tr>\n      <th>0</th>\n      <td>1.0</td>\n      <td>2020-01-01 00:28:15</td>\n      <td>2020-01-01 00:33:03</td>\n      <td>1.0</td>\n      <td>238</td>\n      <td>239</td>\n      <td>6.0</td>\n    </tr>\n    <tr>\n      <th>1</th>\n      <td>1.0</td>\n      <td>2020-01-01 00:35:39</td>\n      <td>2020-01-01 00:43:04</td>\n      <td>1.0</td>\n      <td>239</td>\n      <td>238</td>\n      <td>7.0</td>\n    </tr>\n    <tr>\n      <th>2</th>\n      <td>1.0</td>\n      <td>2020-01-01 00:47:41</td>\n      <td>2020-01-01 00:53:52</td>\n      <td>1.0</td>\n      <td>238</td>\n      <td>238</td>\n      <td>6.0</td>\n    </tr>\n    <tr>\n      <th>3</th>\n      <td>1.0</td>\n      <td>2020-01-01 00:55:23</td>\n      <td>2020-01-01 01:00:14</td>\n      <td>1.0</td>\n      <td>238</td>\n      <td>151</td>\n      <td>5.5</td>\n    </tr>\n    <tr>\n      <th>4</th>\n      <td>2.0</td>\n      <td>2020-01-01 00:01:58</td>\n      <td>2020-01-01 00:04:16</td>\n      <td>1.0</td>\n      <td>193</td>\n      <td>193</td>\n      <td>3.5</td>\n    </tr>\n  </tbody>\n</table>\n</div>"
                    },
                    "metadata": {}
                }
            ]
        },
        {
            "metadata": {},
            "cell_type": "code",
            "source": "",
            "execution_count": null,
            "outputs": []
        }
    ],
    "metadata": {
        "kernelspec": {
            "name": "python3",
            "display_name": "Python 3.7",
            "language": "python"
        },
        "language_info": {
            "name": "python",
            "version": "3.7.9",
            "mimetype": "text/x-python",
            "codemirror_mode": {
                "name": "ipython",
                "version": 3
            },
            "pygments_lexer": "ipython3",
            "nbconvert_exporter": "python",
            "file_extension": ".py"
        }
    },
    "nbformat": 4,
    "nbformat_minor": 1
}